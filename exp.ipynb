{
 "cells": [
  {
   "cell_type": "code",
   "execution_count": 1,
   "metadata": {},
   "outputs": [],
   "source": [
    "# import numpy as np\n",
    "from random import choice\n",
    "import os\n",
    "import vizdoom as vzd"
   ]
  },
  {
   "cell_type": "code",
   "execution_count": 2,
   "metadata": {},
   "outputs": [
    {
     "name": "stdout",
     "output_type": "stream",
     "text": [
      "Available buttons: ['MOVE_LEFT', 'MOVE_RIGHT', 'ATTACK']\n",
      "Available game variables: ['AMMO2']\n"
     ]
    }
   ],
   "source": [
    "game = vzd.DoomGame()\n",
    "\n",
    "# Now it's time for configuration!\n",
    "# load_config could be used to load configuration instead of doing it here with code.\n",
    "# If load_config is used in-code configuration will also work - most recent changes will add to previous ones.\n",
    "# game.load_config(\"../../scenarios/basic.cfg\")\n",
    "\n",
    "# Sets path to additional resources wad file which is basically your scenario wad.\n",
    "# If not specified default maps will be used and it's pretty much useless... unless you want to play good old Doom.\n",
    "game.set_doom_scenario_path(os.path.join(vzd.scenarios_path, \"basic.wad\"))\n",
    "\n",
    "# Sets map to start (scenario .wad files can contain many maps).\n",
    "game.set_doom_map(\"map01\")\n",
    "\n",
    "# Sets resolution. Default is 320X240\n",
    "game.set_screen_resolution(vzd.ScreenResolution.RES_640X480)\n",
    "\n",
    "# Sets the screen buffer format. Not used here but now you can change it. Default is CRCGCB.\n",
    "game.set_screen_format(vzd.ScreenFormat.RGB24)\n",
    "\n",
    "# Enables depth buffer (turned off by default).\n",
    "game.set_depth_buffer_enabled(True)\n",
    "\n",
    "# Enables labeling of in-game objects labeling (turned off by default).\n",
    "game.set_labels_buffer_enabled(True)\n",
    "\n",
    "# Enables buffer with a top-down map of the current episode/level (turned off by default).\n",
    "game.set_automap_buffer_enabled(True)\n",
    "\n",
    "# Enables information about all objects present in the current episode/level (turned off by default).\n",
    "game.set_objects_info_enabled(True)\n",
    "\n",
    "# Enables information about all sectors (map layout/geometry, turned off by default).\n",
    "game.set_sectors_info_enabled(True)\n",
    "\n",
    "# Sets other rendering options (all of these options except crosshair are enabled (set to True) by default)\n",
    "game.set_render_hud(False)\n",
    "game.set_render_minimal_hud(False)  # If hud is enabled\n",
    "game.set_render_crosshair(False)\n",
    "game.set_render_weapon(True)\n",
    "game.set_render_decals(False)  # Bullet holes and blood on the walls\n",
    "game.set_render_particles(False)\n",
    "game.set_render_effects_sprites(False)  # Like smoke and blood\n",
    "game.set_render_messages(False)  # In-game text messages\n",
    "game.set_render_corpses(False)\n",
    "game.set_render_screen_flashes(\n",
    "    True\n",
    ")  # Effect upon taking damage or picking up items\n",
    "\n",
    "# Adds buttons that will be allowed to use.\n",
    "# This can be done by adding buttons one by one:\n",
    "# game.clear_available_buttons()\n",
    "# game.add_available_button(vzd.Button.MOVE_LEFT)\n",
    "# game.add_available_button(vzd.Button.MOVE_RIGHT)\n",
    "# game.add_available_button(vzd.Button.ATTACK)\n",
    "# Or by setting them all at once:\n",
    "game.set_available_buttons(\n",
    "    [vzd.Button.MOVE_LEFT, vzd.Button.MOVE_RIGHT, vzd.Button.ATTACK]\n",
    ")\n",
    "# Buttons that will be used can be also checked by:\n",
    "print(\"Available buttons:\", [b.name for b in game.get_available_buttons()])\n",
    "\n",
    "# Adds game variables that will be included in state.\n",
    "# Similarly to buttons, they can be added one by one:\n",
    "# game.clear_available_game_variables()\n",
    "# game.add_available_game_variable(vzd.GameVariable.AMMO2)\n",
    "# Or:\n",
    "game.set_available_game_variables([vzd.GameVariable.AMMO2])\n",
    "print(\n",
    "    \"Available game variables:\",\n",
    "    [v.name for v in game.get_available_game_variables()],\n",
    ")\n",
    "\n",
    "# Causes episodes to finish after 200 tics (actions)\n",
    "game.set_episode_timeout(200)\n",
    "\n",
    "# Makes episodes start after 10 tics (~after raising the weapon)\n",
    "game.set_episode_start_time(10)\n",
    "\n",
    "# Makes the window appear (turned on by default)\n",
    "game.set_window_visible(True)\n",
    "\n",
    "# Turns on the sound. (turned off by default)\n",
    "# game.set_sound_enabled(True)\n",
    "# Because of some problems with OpenAL on Ubuntu 20.04, we keep this line commented,\n",
    "# the sound is only useful for humans watching the game.\n",
    "\n",
    "# Turns on the audio buffer. (turned off by default)\n",
    "# If this is switched on, the audio will stop playing on device, even with game.set_sound_enabled(True)\n",
    "# Setting game.set_sound_enabled(True) is not required for audio buffer to work.\n",
    "# game.set_audio_buffer_enabled(True)\n",
    "# Because of some problems with OpenAL on Ubuntu 20.04, we keep this line commented.\n",
    "\n",
    "# Sets the living reward (for each move) to -1\n",
    "game.set_living_reward(-1)\n",
    "\n",
    "# Sets ViZDoom mode (PLAYER, ASYNC_PLAYER, SPECTATOR, ASYNC_SPECTATOR, PLAYER mode is default)\n",
    "game.set_mode(vzd.Mode.PLAYER)\n",
    "\n",
    "actions = [[True, False, False], [False, True, False], [False, False, True]]\n",
    "\n",
    "game.init()"
   ]
  },
  {
   "cell_type": "code",
   "execution_count": 3,
   "metadata": {},
   "outputs": [
    {
     "ename": "KeyboardInterrupt",
     "evalue": "",
     "output_type": "error",
     "traceback": [
      "\u001b[1;31m---------------------------------------------------------------------------\u001b[0m",
      "\u001b[1;31mKeyboardInterrupt\u001b[0m                         Traceback (most recent call last)",
      "Cell \u001b[1;32mIn[3], line 8\u001b[0m\n\u001b[0;32m      6\u001b[0m \u001b[39mfor\u001b[39;00m i \u001b[39min\u001b[39;00m \u001b[39mrange\u001b[39m(\u001b[39m1000\u001b[39m):\n\u001b[0;32m      7\u001b[0m     game\u001b[39m.\u001b[39mmake_action(choice(actions))\n\u001b[1;32m----> 8\u001b[0m     time\u001b[39m.\u001b[39;49msleep(\u001b[39m0.3\u001b[39;49m)\n",
      "\u001b[1;31mKeyboardInterrupt\u001b[0m: "
     ]
    }
   ],
   "source": [
    "# Desc: Experiment with the environment\n",
    "\n",
    "import time\n",
    "\n",
    "\n",
    "for i in range(1000):\n",
    "    game.make_action(choice(actions))\n",
    "    time.sleep(0.3)"
   ]
  }
 ],
 "metadata": {
  "kernelspec": {
   "display_name": ".venv",
   "language": "python",
   "name": "python3"
  },
  "language_info": {
   "codemirror_mode": {
    "name": "ipython",
    "version": 3
   },
   "file_extension": ".py",
   "mimetype": "text/x-python",
   "name": "python",
   "nbconvert_exporter": "python",
   "pygments_lexer": "ipython3",
   "version": "3.8.2"
  },
  "orig_nbformat": 4
 },
 "nbformat": 4,
 "nbformat_minor": 2
}
